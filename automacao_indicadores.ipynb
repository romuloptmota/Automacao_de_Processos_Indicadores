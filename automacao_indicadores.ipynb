{
 "cells": [
  {
   "cell_type": "markdown",
   "source": [
    "#### Carregando base de dados"
   ],
   "metadata": {
    "collapsed": false,
    "pycharm": {
     "name": "#%% md\n"
    }
   }
  },
  {
   "cell_type": "code",
   "execution_count": 5,
   "outputs": [
    {
     "data": {
      "text/plain": "        Código Venda       Data  ID Loja           Produto  Quantidade  \\\n0                  1 2019-01-01        1    Sapato Estampa           1   \n1                  1 2019-01-01        1          Camiseta           2   \n2                  1 2019-01-01        1     Sapato Xadrez           1   \n3                  2 2019-01-02        3           Relógio           3   \n4                  2 2019-01-02        3      Chinelo Liso           1   \n...              ...        ...      ...               ...         ...   \n100994         69996 2019-12-26       17    Short Listrado           2   \n100995         69996 2019-12-26       17           Mochila           4   \n100996         69996 2019-12-26       17  Pulseira Estampa           1   \n100997         69997 2019-12-26       11   Camisa Listrado           1   \n100998         69997 2019-12-26       11       Short Linho           2   \n\n        Valor Unitário  Valor Final  \n0                  358          358  \n1                  180          360  \n2                  368          368  \n3                  200          600  \n4                   71           71  \n...                ...          ...  \n100994             102          204  \n100995             270         1080  \n100996              87           87  \n100997             108          108  \n100998             133          266  \n\n[100999 rows x 7 columns]",
      "text/html": "<div>\n<style scoped>\n    .dataframe tbody tr th:only-of-type {\n        vertical-align: middle;\n    }\n\n    .dataframe tbody tr th {\n        vertical-align: top;\n    }\n\n    .dataframe thead th {\n        text-align: right;\n    }\n</style>\n<table border=\"1\" class=\"dataframe\">\n  <thead>\n    <tr style=\"text-align: right;\">\n      <th></th>\n      <th>Código Venda</th>\n      <th>Data</th>\n      <th>ID Loja</th>\n      <th>Produto</th>\n      <th>Quantidade</th>\n      <th>Valor Unitário</th>\n      <th>Valor Final</th>\n    </tr>\n  </thead>\n  <tbody>\n    <tr>\n      <th>0</th>\n      <td>1</td>\n      <td>2019-01-01</td>\n      <td>1</td>\n      <td>Sapato Estampa</td>\n      <td>1</td>\n      <td>358</td>\n      <td>358</td>\n    </tr>\n    <tr>\n      <th>1</th>\n      <td>1</td>\n      <td>2019-01-01</td>\n      <td>1</td>\n      <td>Camiseta</td>\n      <td>2</td>\n      <td>180</td>\n      <td>360</td>\n    </tr>\n    <tr>\n      <th>2</th>\n      <td>1</td>\n      <td>2019-01-01</td>\n      <td>1</td>\n      <td>Sapato Xadrez</td>\n      <td>1</td>\n      <td>368</td>\n      <td>368</td>\n    </tr>\n    <tr>\n      <th>3</th>\n      <td>2</td>\n      <td>2019-01-02</td>\n      <td>3</td>\n      <td>Relógio</td>\n      <td>3</td>\n      <td>200</td>\n      <td>600</td>\n    </tr>\n    <tr>\n      <th>4</th>\n      <td>2</td>\n      <td>2019-01-02</td>\n      <td>3</td>\n      <td>Chinelo Liso</td>\n      <td>1</td>\n      <td>71</td>\n      <td>71</td>\n    </tr>\n    <tr>\n      <th>...</th>\n      <td>...</td>\n      <td>...</td>\n      <td>...</td>\n      <td>...</td>\n      <td>...</td>\n      <td>...</td>\n      <td>...</td>\n    </tr>\n    <tr>\n      <th>100994</th>\n      <td>69996</td>\n      <td>2019-12-26</td>\n      <td>17</td>\n      <td>Short Listrado</td>\n      <td>2</td>\n      <td>102</td>\n      <td>204</td>\n    </tr>\n    <tr>\n      <th>100995</th>\n      <td>69996</td>\n      <td>2019-12-26</td>\n      <td>17</td>\n      <td>Mochila</td>\n      <td>4</td>\n      <td>270</td>\n      <td>1080</td>\n    </tr>\n    <tr>\n      <th>100996</th>\n      <td>69996</td>\n      <td>2019-12-26</td>\n      <td>17</td>\n      <td>Pulseira Estampa</td>\n      <td>1</td>\n      <td>87</td>\n      <td>87</td>\n    </tr>\n    <tr>\n      <th>100997</th>\n      <td>69997</td>\n      <td>2019-12-26</td>\n      <td>11</td>\n      <td>Camisa Listrado</td>\n      <td>1</td>\n      <td>108</td>\n      <td>108</td>\n    </tr>\n    <tr>\n      <th>100998</th>\n      <td>69997</td>\n      <td>2019-12-26</td>\n      <td>11</td>\n      <td>Short Linho</td>\n      <td>2</td>\n      <td>133</td>\n      <td>266</td>\n    </tr>\n  </tbody>\n</table>\n<p>100999 rows × 7 columns</p>\n</div>"
     },
     "metadata": {},
     "output_type": "display_data"
    },
    {
     "data": {
      "text/plain": "    ID Loja                              Loja\n0         1                Iguatemi Esplanada\n1         2              Shopping Midway Mall\n2         3                    Norte Shopping\n3         4       Shopping Iguatemi Fortaleza\n4         5          Shopping União de Osasco\n5         6        Shopping Center Interlagos\n6         7                    Rio Mar Recife\n7         8                 Salvador Shopping\n8         9        Rio Mar Shopping Fortaleza\n9        10  Shopping Center Leste Aricanduva\n10       11                 Ribeirão Shopping\n11       12                  Shopping Morumbi\n12       13         Parque Dom Pedro Shopping\n13       14               Bourbon Shopping SP\n14       15       Palladium Shopping Curitiba\n15       16         Passei das Águas Shopping\n16       17        Center Shopping Uberlândia\n17       18                   Shopping Recife\n18       19               Shopping Vila Velha\n19       20                Shopping SP Market\n20       21                 Shopping Eldorado\n21       22               Shopping Ibirapuera\n22       23      Novo Shopping Ribeirão Preto\n23       24                 Iguatemi Campinas\n24       25                    Shopping Barra",
      "text/html": "<div>\n<style scoped>\n    .dataframe tbody tr th:only-of-type {\n        vertical-align: middle;\n    }\n\n    .dataframe tbody tr th {\n        vertical-align: top;\n    }\n\n    .dataframe thead th {\n        text-align: right;\n    }\n</style>\n<table border=\"1\" class=\"dataframe\">\n  <thead>\n    <tr style=\"text-align: right;\">\n      <th></th>\n      <th>ID Loja</th>\n      <th>Loja</th>\n    </tr>\n  </thead>\n  <tbody>\n    <tr>\n      <th>0</th>\n      <td>1</td>\n      <td>Iguatemi Esplanada</td>\n    </tr>\n    <tr>\n      <th>1</th>\n      <td>2</td>\n      <td>Shopping Midway Mall</td>\n    </tr>\n    <tr>\n      <th>2</th>\n      <td>3</td>\n      <td>Norte Shopping</td>\n    </tr>\n    <tr>\n      <th>3</th>\n      <td>4</td>\n      <td>Shopping Iguatemi Fortaleza</td>\n    </tr>\n    <tr>\n      <th>4</th>\n      <td>5</td>\n      <td>Shopping União de Osasco</td>\n    </tr>\n    <tr>\n      <th>5</th>\n      <td>6</td>\n      <td>Shopping Center Interlagos</td>\n    </tr>\n    <tr>\n      <th>6</th>\n      <td>7</td>\n      <td>Rio Mar Recife</td>\n    </tr>\n    <tr>\n      <th>7</th>\n      <td>8</td>\n      <td>Salvador Shopping</td>\n    </tr>\n    <tr>\n      <th>8</th>\n      <td>9</td>\n      <td>Rio Mar Shopping Fortaleza</td>\n    </tr>\n    <tr>\n      <th>9</th>\n      <td>10</td>\n      <td>Shopping Center Leste Aricanduva</td>\n    </tr>\n    <tr>\n      <th>10</th>\n      <td>11</td>\n      <td>Ribeirão Shopping</td>\n    </tr>\n    <tr>\n      <th>11</th>\n      <td>12</td>\n      <td>Shopping Morumbi</td>\n    </tr>\n    <tr>\n      <th>12</th>\n      <td>13</td>\n      <td>Parque Dom Pedro Shopping</td>\n    </tr>\n    <tr>\n      <th>13</th>\n      <td>14</td>\n      <td>Bourbon Shopping SP</td>\n    </tr>\n    <tr>\n      <th>14</th>\n      <td>15</td>\n      <td>Palladium Shopping Curitiba</td>\n    </tr>\n    <tr>\n      <th>15</th>\n      <td>16</td>\n      <td>Passei das Águas Shopping</td>\n    </tr>\n    <tr>\n      <th>16</th>\n      <td>17</td>\n      <td>Center Shopping Uberlândia</td>\n    </tr>\n    <tr>\n      <th>17</th>\n      <td>18</td>\n      <td>Shopping Recife</td>\n    </tr>\n    <tr>\n      <th>18</th>\n      <td>19</td>\n      <td>Shopping Vila Velha</td>\n    </tr>\n    <tr>\n      <th>19</th>\n      <td>20</td>\n      <td>Shopping SP Market</td>\n    </tr>\n    <tr>\n      <th>20</th>\n      <td>21</td>\n      <td>Shopping Eldorado</td>\n    </tr>\n    <tr>\n      <th>21</th>\n      <td>22</td>\n      <td>Shopping Ibirapuera</td>\n    </tr>\n    <tr>\n      <th>22</th>\n      <td>23</td>\n      <td>Novo Shopping Ribeirão Preto</td>\n    </tr>\n    <tr>\n      <th>23</th>\n      <td>24</td>\n      <td>Iguatemi Campinas</td>\n    </tr>\n    <tr>\n      <th>24</th>\n      <td>25</td>\n      <td>Shopping Barra</td>\n    </tr>\n  </tbody>\n</table>\n</div>"
     },
     "metadata": {},
     "output_type": "display_data"
    },
    {
     "data": {
      "text/plain": "                                Loja      Gerente  \\\n0                 Iguatemi Esplanada       Helena   \n1               Shopping Midway Mall        Alice   \n2                     Norte Shopping        Laura   \n3        Shopping Iguatemi Fortaleza      Manuela   \n4           Shopping União de Osasco    Valentina   \n5         Shopping Center Interlagos       Sophia   \n6                     Rio Mar Recife     Isabella   \n7                  Salvador Shopping      Heloisa   \n8         Rio Mar Shopping Fortaleza        Luiza   \n9   Shopping Center Leste Aricanduva        Julia   \n10                 Ribeirão Shopping       Lorena   \n11                  Shopping Morumbi        Livia   \n12         Parque Dom Pedro Shopping  Maria Luiza   \n13               Bourbon Shopping SP      Cecilia   \n14       Palladium Shopping Curitiba         Eloa   \n15         Passei das Águas Shopping       Miguel   \n16        Center Shopping Uberlândia       Arthur   \n17                   Shopping Recife       Heitor   \n18               Shopping Vila Velha     Bernardo   \n19                Shopping SP Market         Davi   \n20                 Shopping Eldorado         Theo   \n21               Shopping Ibirapuera      Lorenzo   \n22      Novo Shopping Ribeirão Preto      Gabriel   \n23                 Iguatemi Campinas        Pedro   \n24                    Shopping Barra     Benjamin   \n25                         Diretoria    Diretoria   \n\n                                        E-mail  \n0        pythonimpressionador+helena@gmail.com  \n1         pythonimpressionador+alice@gmail.com  \n2         pythonimpressionador+laura@gmail.com  \n3       pythonimpressionador+manuela@gmail.com  \n4     pythonimpressionador+valentina@gmail.com  \n5        pythonimpressionador+sophia@gmail.com  \n6      pythonimpressionador+isabella@gmail.com  \n7       pythonimpressionador+heloisa@gmail.com  \n8         pythonimpressionador+luiza@gmail.com  \n9         pythonimpressionador+julia@gmail.com  \n10       pythonimpressionador+lorena@gmail.com  \n11        pythonimpressionador+livia@gmail.com  \n12  pythonimpressionador+maria_luiza@gmail.com  \n13      pythonimpressionador+cecilia@gmail.com  \n14         pythonimpressionador+eloa@gmail.com  \n15       pythonimpressionador+miguel@gmail.com  \n16       pythonimpressionador+arthur@gmail.com  \n17       pythonimpressionador+heitor@gmail.com  \n18     pythonimpressionador+bernardo@gmail.com  \n19         pythonimpressionador+davi@gmail.com  \n20         pythonimpressionador+theo@gmail.com  \n21      pythonimpressionador+lorenzo@gmail.com  \n22      pythonimpressionador+gabriel@gmail.com  \n23        pythonimpressionador+pedro@gmail.com  \n24     pythonimpressionador+benjamin@gmail.com  \n25    pythonimpressionador+diretoria@gmail.com  ",
      "text/html": "<div>\n<style scoped>\n    .dataframe tbody tr th:only-of-type {\n        vertical-align: middle;\n    }\n\n    .dataframe tbody tr th {\n        vertical-align: top;\n    }\n\n    .dataframe thead th {\n        text-align: right;\n    }\n</style>\n<table border=\"1\" class=\"dataframe\">\n  <thead>\n    <tr style=\"text-align: right;\">\n      <th></th>\n      <th>Loja</th>\n      <th>Gerente</th>\n      <th>E-mail</th>\n    </tr>\n  </thead>\n  <tbody>\n    <tr>\n      <th>0</th>\n      <td>Iguatemi Esplanada</td>\n      <td>Helena</td>\n      <td>pythonimpressionador+helena@gmail.com</td>\n    </tr>\n    <tr>\n      <th>1</th>\n      <td>Shopping Midway Mall</td>\n      <td>Alice</td>\n      <td>pythonimpressionador+alice@gmail.com</td>\n    </tr>\n    <tr>\n      <th>2</th>\n      <td>Norte Shopping</td>\n      <td>Laura</td>\n      <td>pythonimpressionador+laura@gmail.com</td>\n    </tr>\n    <tr>\n      <th>3</th>\n      <td>Shopping Iguatemi Fortaleza</td>\n      <td>Manuela</td>\n      <td>pythonimpressionador+manuela@gmail.com</td>\n    </tr>\n    <tr>\n      <th>4</th>\n      <td>Shopping União de Osasco</td>\n      <td>Valentina</td>\n      <td>pythonimpressionador+valentina@gmail.com</td>\n    </tr>\n    <tr>\n      <th>5</th>\n      <td>Shopping Center Interlagos</td>\n      <td>Sophia</td>\n      <td>pythonimpressionador+sophia@gmail.com</td>\n    </tr>\n    <tr>\n      <th>6</th>\n      <td>Rio Mar Recife</td>\n      <td>Isabella</td>\n      <td>pythonimpressionador+isabella@gmail.com</td>\n    </tr>\n    <tr>\n      <th>7</th>\n      <td>Salvador Shopping</td>\n      <td>Heloisa</td>\n      <td>pythonimpressionador+heloisa@gmail.com</td>\n    </tr>\n    <tr>\n      <th>8</th>\n      <td>Rio Mar Shopping Fortaleza</td>\n      <td>Luiza</td>\n      <td>pythonimpressionador+luiza@gmail.com</td>\n    </tr>\n    <tr>\n      <th>9</th>\n      <td>Shopping Center Leste Aricanduva</td>\n      <td>Julia</td>\n      <td>pythonimpressionador+julia@gmail.com</td>\n    </tr>\n    <tr>\n      <th>10</th>\n      <td>Ribeirão Shopping</td>\n      <td>Lorena</td>\n      <td>pythonimpressionador+lorena@gmail.com</td>\n    </tr>\n    <tr>\n      <th>11</th>\n      <td>Shopping Morumbi</td>\n      <td>Livia</td>\n      <td>pythonimpressionador+livia@gmail.com</td>\n    </tr>\n    <tr>\n      <th>12</th>\n      <td>Parque Dom Pedro Shopping</td>\n      <td>Maria Luiza</td>\n      <td>pythonimpressionador+maria_luiza@gmail.com</td>\n    </tr>\n    <tr>\n      <th>13</th>\n      <td>Bourbon Shopping SP</td>\n      <td>Cecilia</td>\n      <td>pythonimpressionador+cecilia@gmail.com</td>\n    </tr>\n    <tr>\n      <th>14</th>\n      <td>Palladium Shopping Curitiba</td>\n      <td>Eloa</td>\n      <td>pythonimpressionador+eloa@gmail.com</td>\n    </tr>\n    <tr>\n      <th>15</th>\n      <td>Passei das Águas Shopping</td>\n      <td>Miguel</td>\n      <td>pythonimpressionador+miguel@gmail.com</td>\n    </tr>\n    <tr>\n      <th>16</th>\n      <td>Center Shopping Uberlândia</td>\n      <td>Arthur</td>\n      <td>pythonimpressionador+arthur@gmail.com</td>\n    </tr>\n    <tr>\n      <th>17</th>\n      <td>Shopping Recife</td>\n      <td>Heitor</td>\n      <td>pythonimpressionador+heitor@gmail.com</td>\n    </tr>\n    <tr>\n      <th>18</th>\n      <td>Shopping Vila Velha</td>\n      <td>Bernardo</td>\n      <td>pythonimpressionador+bernardo@gmail.com</td>\n    </tr>\n    <tr>\n      <th>19</th>\n      <td>Shopping SP Market</td>\n      <td>Davi</td>\n      <td>pythonimpressionador+davi@gmail.com</td>\n    </tr>\n    <tr>\n      <th>20</th>\n      <td>Shopping Eldorado</td>\n      <td>Theo</td>\n      <td>pythonimpressionador+theo@gmail.com</td>\n    </tr>\n    <tr>\n      <th>21</th>\n      <td>Shopping Ibirapuera</td>\n      <td>Lorenzo</td>\n      <td>pythonimpressionador+lorenzo@gmail.com</td>\n    </tr>\n    <tr>\n      <th>22</th>\n      <td>Novo Shopping Ribeirão Preto</td>\n      <td>Gabriel</td>\n      <td>pythonimpressionador+gabriel@gmail.com</td>\n    </tr>\n    <tr>\n      <th>23</th>\n      <td>Iguatemi Campinas</td>\n      <td>Pedro</td>\n      <td>pythonimpressionador+pedro@gmail.com</td>\n    </tr>\n    <tr>\n      <th>24</th>\n      <td>Shopping Barra</td>\n      <td>Benjamin</td>\n      <td>pythonimpressionador+benjamin@gmail.com</td>\n    </tr>\n    <tr>\n      <th>25</th>\n      <td>Diretoria</td>\n      <td>Diretoria</td>\n      <td>pythonimpressionador+diretoria@gmail.com</td>\n    </tr>\n  </tbody>\n</table>\n</div>"
     },
     "metadata": {},
     "output_type": "display_data"
    }
   ],
   "source": [
    "import pandas as pd\n",
    "\n",
    "vendas = pd.read_excel(r'base_dados/Vendas.xlsx')\n",
    "lojas = pd.read_csv(r'base_dados/Lojas.csv', encoding='latin1', sep=';')\n",
    "email = pd.read_excel(r'base_dados/Emails.xlsx')\n",
    "\n",
    "display(vendas)\n",
    "display(lojas)\n",
    "display(email)"
   ],
   "metadata": {
    "collapsed": false,
    "pycharm": {
     "name": "#%%\n"
    }
   }
  },
  {
   "cell_type": "markdown",
   "source": [
    "#### Criando pastas de backup"
   ],
   "metadata": {
    "collapsed": false,
    "pycharm": {
     "name": "#%% md\n"
    }
   }
  },
  {
   "cell_type": "code",
   "execution_count": 8,
   "outputs": [
    {
     "name": "stdout",
     "output_type": "stream",
     "text": [
      "Pastas Criadas\n"
     ]
    }
   ],
   "source": [
    "from pathlib import Path\n",
    "# Criação de pasta de indicadores\n",
    "try:\n",
    "    Path('base_dados/indicadores_lojas').mkdir()\n",
    "except:\n",
    "    pass\n",
    "# Criação de pastas para cada loja\n",
    "lojas_df = lojas['Loja']\n",
    "for loja in lojas_df:\n",
    "    try:\n",
    "        Path(\"base_dados/indicadores_lojas/{}\".format(loja)).mkdir()\n",
    "    except:\n",
    "        pass\n",
    "print('Pastas Criadas')"
   ],
   "metadata": {
    "collapsed": false,
    "pycharm": {
     "name": "#%%\n"
    }
   }
  }
 ],
 "metadata": {
  "kernelspec": {
   "display_name": "Python 3",
   "language": "python",
   "name": "python3"
  },
  "language_info": {
   "codemirror_mode": {
    "name": "ipython",
    "version": 2
   },
   "file_extension": ".py",
   "mimetype": "text/x-python",
   "name": "python",
   "nbconvert_exporter": "python",
   "pygments_lexer": "ipython2",
   "version": "2.7.6"
  }
 },
 "nbformat": 4,
 "nbformat_minor": 0
}